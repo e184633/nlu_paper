{
  "nbformat": 4,
  "nbformat_minor": 0,
  "metadata": {
    "colab": {
      "name": "Reproduce_Evaluation.ipynb",
      "provenance": [],
      "collapsed_sections": [
        "gvKwex-8dBX1",
        "nWkn75Y14BdH",
        "Qj8eFQRTTjEx"
      ],
      "toc_visible": true,
      "include_colab_link": true
    },
    "kernelspec": {
      "display_name": "Python 3",
      "language": "python",
      "name": "python3"
    },
    "language_info": {
      "codemirror_mode": {
        "name": "ipython",
        "version": 3
      },
      "file_extension": ".py",
      "mimetype": "text/x-python",
      "name": "python",
      "nbconvert_exporter": "python",
      "pygments_lexer": "ipython3",
      "version": "3.6.9"
    }
  },
  "cells": [
    {
      "cell_type": "markdown",
      "metadata": {
        "id": "view-in-github",
        "colab_type": "text"
      },
      "source": [
        "<a href=\"https://colab.research.google.com/github/e184633/nlu_paper/blob/main/Reproduce_Evaluation.ipynb\" target=\"_parent\"><img src=\"https://colab.research.google.com/assets/colab-badge.svg\" alt=\"Open In Colab\"/></a>"
      ]
    },
    {
      "cell_type": "code",
      "metadata": {
        "id": "LI66ZkAhjRQy"
      },
      "source": [
        "\n"
      ],
      "execution_count": null,
      "outputs": []
    },
    {
      "cell_type": "markdown",
      "metadata": {
        "collapsed": true,
        "id": "MGSXn0USOhtu"
      },
      "source": [
        "# Evaluation of a QA System\n",
        "\n",
        "[![Open In Colab](https://colab.research.google.com/assets/colab-badge.svg)](https://colab.research.google.com/github/deepset-ai/haystack/blob/master/tutorials/Tutorial5_Evaluation.ipynb)\n",
        "\n",
        "To be able to make a statement about the performance of a question-answering system, it is important to evalute it. Furthermore, evaluation allows to determine which parts of the system can be improved."
      ]
    },
    {
      "cell_type": "code",
      "metadata": {
        "id": "vgmFOp82Oht_"
      },
      "source": [
        "# Install the latest release of Haystack in your own environment \n",
        "#! pip install farm-haystack\n",
        "\n",
        "# Install the latest master of Haystack\n",
        "!pip install grpcio-tools==1.34.1\n",
        "!pip install git+https://github.com/deepset-ai/haystack.git\n",
        "!pip install datasets\n",
        "# If you run this notebook on Google Colab, you might need to\n",
        "# restart the runtime after installing haystack.\n",
        "!pip install \"ray[default]\""
      ],
      "execution_count": null,
      "outputs": []
    },
    {
      "cell_type": "code",
      "metadata": {
        "id": "w0MHgxrYOhur"
      },
      "source": [
        "from haystack.modeling.utils import initialize_device_settings\n",
        "\n",
        "device, n_gpu = initialize_device_settings(use_cuda=True)"
      ],
      "execution_count": null,
      "outputs": []
    },
    {
      "cell_type": "code",
      "metadata": {
        "id": "heWri-IwjS02"
      },
      "source": [
        "\n",
        "!nvidia-smi"
      ],
      "execution_count": null,
      "outputs": []
    },
    {
      "cell_type": "code",
      "metadata": {
        "id": "ssHuLrpAtWFI"
      },
      "source": [
        "from transformers import logging\n",
        "logging.set_verbosity_error()"
      ],
      "execution_count": null,
      "outputs": []
    },
    {
      "cell_type": "code",
      "metadata": {
        "id": "IQBC2k0YaKOm"
      },
      "source": [
        "\n",
        "from google.colab import files\n",
        "\n",
        "# sas_squad.sort_values('sas').to_csv('squad_sas_score.csv') \n",
        "# files.download('squad_sas_score.csv')"
      ],
      "execution_count": null,
      "outputs": []
    },
    {
      "cell_type": "code",
      "metadata": {
        "id": "KV42ZSxcsQMA"
      },
      "source": [
        "# url = 'https://github.com/rajpurkar/SQuAD-explorer/blob/master/dataset/dev-v2.0.json'\n"
      ],
      "execution_count": null,
      "outputs": []
    },
    {
      "cell_type": "markdown",
      "metadata": {
        "id": "gy8YwmSYOhvE"
      },
      "source": [
        "## Bi-encoder"
      ]
    },
    {
      "cell_type": "code",
      "metadata": {
        "colab": {
          "background_save": true
        },
        "id": "tYIvC4nQ8sPR"
      },
      "source": [
        "from sentence_transformers import SentenceTransformer\n",
        "model = SentenceTransformer('T-Systems-onsite/cross-en-de-roberta-sentence-transformer')"
      ],
      "execution_count": null,
      "outputs": []
    },
    {
      "cell_type": "code",
      "metadata": {
        "id": "LjkbClz__0uC"
      },
      "source": [
        "!ls data/data/"
      ],
      "execution_count": null,
      "outputs": []
    },
    {
      "cell_type": "code",
      "metadata": {
        "id": "BqheLzb5c7pT"
      },
      "source": [
        "\n"
      ],
      "execution_count": null,
      "outputs": []
    },
    {
      "cell_type": "markdown",
      "metadata": {
        "id": "umAQfsAzjaR9"
      },
      "source": [
        "## Data Import"
      ]
    },
    {
      "cell_type": "code",
      "metadata": {
        "id": "tTXxr6TAOhuz"
      },
      "source": [
        "from haystack.preprocessor.utils import fetch_archive_from_http\n",
        "\n",
        "# Download evaluation data, which is a subset of \n",
        "# Natural Questions development set containing 50 documents\n",
        "doc_dir = \"data\"\n",
        "s3_url = \" https://semantic-answer-similarity.s3.amazonaws.com/data.zip\"\n",
        "fetch_archive_from_http(url=s3_url, output_dir=doc_dir)"
      ],
      "execution_count": null,
      "outputs": []
    },
    {
      "cell_type": "code",
      "metadata": {
        "id": "z3fSu9BA_Wk9"
      },
      "source": [
        "import pandas as pd\n",
        "squad = pd.read_csv('data/data/SQuAD_SAS.csv')\n",
        "nq_open = pd.read_csv('data/data/NQ-open_SAS.csv')\n",
        "german_quad = pd.read_csv('data/data/GermanQuAD_SAS.csv')"
      ],
      "execution_count": null,
      "outputs": []
    },
    {
      "cell_type": "code",
      "metadata": {
        "id": "_um_9WNlA27w"
      },
      "source": [
        "dataset_to_bi_encoder_similarity_scores = {}\n",
        "for data, name in zip([squad, nq_open, german_squad], \n",
        "                      ('squad', 'nq-open', 'german_squad')):\n",
        "    scores_bi_encoder = data.copy()\n",
        "    from sentence_transformers import util\n",
        "    #Compute embedding for both lists\n",
        "    embeddings1 = model.encode(data['answer1'], convert_to_tensor=True)\n",
        "    embeddings2 = model.encode(data['answer2'], convert_to_tensor=True)\n",
        "\n",
        "    #Compute cosine-similarits\n",
        "    cosine_scores = util.pytorch_cos_sim(embeddings1, embeddings2)\n",
        "\n",
        "    #Output the pairs with their score\n",
        "    scores_bi_encoder['bi_encoder'] = pd.Series()\n",
        "    for i in range(len(data['answer1'])):\n",
        "        scores_bi_encoder['bi_encoder'][i] = cosine_scores[i][i].item()\n",
        "    scores_bi_encoder.sort_values('bi_encoder').to_csv(f'{name}_bi_encoder_score.csv') \n",
        "    files.download(f'{name}_bi_encoder_score.csv')\n",
        "    dataset_to_bi_encoder_similarity_scores[name] = scores_bi_encoder"
      ],
      "execution_count": null,
      "outputs": []
    },
    {
      "cell_type": "code",
      "metadata": {
        "id": "QC8ramNWjTfg"
      },
      "source": [
        "\n",
        "compute_f1(str(4), str(5))"
      ],
      "execution_count": null,
      "outputs": []
    },
    {
      "cell_type": "code",
      "metadata": {
        "id": "ljC7GDD4dA0q"
      },
      "source": [
        "\n",
        "\n",
        "from haystack.modeling.evaluation.squad_evaluation import compute_f1"
      ],
      "execution_count": null,
      "outputs": []
    },
    {
      "cell_type": "code",
      "metadata": {
        "id": "-gMcUlclgjNm"
      },
      "source": [
        "\n",
        "dataset_to_bi_encoder_similarity_scores = {}\n",
        "for data, name in zip([squad, nq_open, german_squad], \n",
        "                      ('squad', 'nq-open', 'german_squad')):\n",
        "    scores_bi_encoder = data.copy()\n",
        "    from sentence_transformers import util\n",
        "    #Compute embedding for both lists\n",
        "    embeddings1 = model.encode(data['answer1'], convert_to_tensor=True)\n",
        "    embeddings2 = model.encode(data['answer2'], convert_to_tensor=True)\n",
        "\n",
        "    #Compute cosine-similarits\n",
        "    cosine_scores = util.pytorch_cos_sim(embeddings1, embeddings2)\n",
        "\n",
        "    #Output the pairs with their score\n",
        "    scores_bi_encoder['bi_encoder'] = pd.Series()\n",
        "    scores_bi_encoder['f1'] = pd.Series()\n",
        "    for i in range(len(data['answer1'])):\n",
        "        scores_bi_encoder['bi_encoder'][i] = cosine_scores[i][i].item()\n",
        "    \n",
        "    scores_bi_encoder['f1'] = scores_bi_encoder.apply(\n",
        "        lambda x: compute_f1(str(x.answer1), str(x.answer2)), axis=1)\n",
        "    scores_bi_encoder.sort_values('bi_encoder').to_csv(f'{name}_bi_encoder_score.csv') \n",
        "    files.download(f'{name}_bi_encoder_score.csv')\n",
        "    dataset_to_bi_encoder_similarity_scores[name] = scores_bi_encoder\n"
      ],
      "execution_count": null,
      "outputs": []
    },
    {
      "cell_type": "code",
      "metadata": {
        "id": "7KE2C6ZHnbnL"
      },
      "source": [
        "\n",
        "# temp['f1'] = temp.apply(lambda x: compute_f1(str(x.answer1), str(x.answer2)), axis=1)"
      ],
      "execution_count": null,
      "outputs": []
    },
    {
      "cell_type": "code",
      "metadata": {
        "id": "pZjAI8duKT_G"
      },
      "source": [
        "\n",
        "from transformers import AutoConfig\n",
        "model_names = ['sentence-transformers/paraphrase-multilingual-mpnet-base-v2', \n",
        "               'cross-encoder/stsb-roberta-large', \n",
        "               'deepset/gbert-base',\n",
        "               'deepset/gbert-large-sts',\n",
        "               'T-Systems-onsite/cross-en-de-roberta-sentence-transformer'\n",
        "              ]\n",
        "configs = [AutoConfig.from_pretrained(model_name) for model_name in model_names]\n",
        "[arch.endswith('ForSequenceClassification') for config in configs for arch in config.architectures]"
      ],
      "execution_count": null,
      "outputs": []
    },
    {
      "cell_type": "markdown",
      "metadata": {
        "id": "gvKwex-8dBX1"
      },
      "source": [
        "## Cross-encoder"
      ]
    },
    {
      "cell_type": "code",
      "metadata": {
        "id": "KWHqmrNRvWjG"
      },
      "source": [
        "from sentence_transformers import CrossEncoder\n",
        "model_cross_encoder = CrossEncoder('deepset/gbert-large-sts')\n"
      ],
      "execution_count": null,
      "outputs": []
    },
    {
      "cell_type": "code",
      "metadata": {
        "id": "RKNA_X4jpkYH"
      },
      "source": [
        "\n",
        "cross_encoder_sas = squad.copy()"
      ],
      "execution_count": null,
      "outputs": []
    },
    {
      "cell_type": "code",
      "metadata": {
        "id": "M6gZNtNRFL6p"
      },
      "source": [
        "\n",
        "series = _"
      ],
      "execution_count": null,
      "outputs": []
    },
    {
      "cell_type": "code",
      "metadata": {
        "id": "ztpwXmuLGVVi"
      },
      "source": [
        "\n",
        "sas_squad = squad.copy()"
      ],
      "execution_count": null,
      "outputs": []
    },
    {
      "cell_type": "code",
      "metadata": {
        "id": "o1bStFQGGl10"
      },
      "source": [
        "\n",
        "sas_squad['sas'] = series"
      ],
      "execution_count": null,
      "outputs": []
    },
    {
      "cell_type": "code",
      "metadata": {
        "id": "p61lMcUqG9G7"
      },
      "source": [
        "\n",
        "sas_squad.sort_values('sas')"
      ],
      "execution_count": null,
      "outputs": []
    },
    {
      "cell_type": "code",
      "metadata": {
        "id": "lDR8-h4jFOTr"
      },
      "source": [
        "from google.colab import files\n",
        "\n",
        "sas_squad.sort_values('sas').to_csv('squad_sas_score.csv') \n",
        "files.download('squad_sas_score.csv')"
      ],
      "execution_count": null,
      "outputs": []
    },
    {
      "cell_type": "code",
      "metadata": {
        "id": "zC1gwf-CdcIK"
      },
      "source": [
        "from sklearn.metrics import f1_score"
      ],
      "execution_count": null,
      "outputs": []
    },
    {
      "cell_type": "code",
      "metadata": {
        "id": "-iBaG9TfpwVN"
      },
      "source": [
        "\n",
        "output = _"
      ],
      "execution_count": null,
      "outputs": []
    },
    {
      "cell_type": "code",
      "metadata": {
        "id": "oXkCgj7WLxqk"
      },
      "source": [
        "\n",
        "series_german = pd.Series(\n",
        "    [model_cross_encoder.predict([str(german_squad.answer1.values[i]), \n",
        "                                  str(german_squad.answer2.values[i])], \n",
        "                                 show_progress_bar=False) \n",
        "                                 for i in range(len(german_squad))])"
      ],
      "execution_count": null,
      "outputs": []
    },
    {
      "cell_type": "code",
      "metadata": {
        "id": "CAm_T6lfpcdk"
      },
      "source": [
        "nq_open['f1'] = nq_open.apply(lambda x: compute_f1(x.answer1, x.answer2), axis=1)"
      ],
      "execution_count": null,
      "outputs": []
    },
    {
      "cell_type": "code",
      "metadata": {
        "id": "4JM6VxVNpyJk"
      },
      "source": [
        "\n",
        "german_quad = german_squad.copy()\n",
        "german_quad['sas'] = series_german\n",
        "\n",
        "german_quad.sort_values('sas').to_csv('german_quad_sas.csv') \n",
        "files.download('german_quad_sas.csv')"
      ],
      "execution_count": null,
      "outputs": []
    },
    {
      "cell_type": "code",
      "metadata": {
        "id": "BrbC9JfVrs6P"
      },
      "source": [
        "\n",
        "\n",
        "series_nq_open = pd.Series(\n",
        "    [model_cross_encoder.predict([str(nq_open.answer1.values[i]), \n",
        "                                  str(nq_open.answer2.values[i])], \n",
        "                                 show_progress_bar=False) \n",
        "                                 for i in range(len(nq_open))])\n",
        "\n",
        "nq_open_sas = nq_open.copy()\n",
        "nq_open_sas['sas'] = series_nq_open\n",
        "nq_open_sas.sort_values('sas').to_csv('nq_open_sas.csv') \n",
        "files.download('nq_open_sas.csv')"
      ],
      "execution_count": null,
      "outputs": []
    },
    {
      "cell_type": "code",
      "metadata": {
        "id": "c67qGBRkpWpl"
      },
      "source": [
        "# series_german_quad = pd.Series(\n",
        "#     [model_cross_encoder.predict([german_squad.answer1.values[i], \n",
        "#                                   german_squad.answer2.values[i]]) \n",
        "#                                  for i in range(len(german_squad))])"
      ],
      "execution_count": null,
      "outputs": []
    },
    {
      "cell_type": "code",
      "metadata": {
        "id": "SPW12sX1pDrv"
      },
      "source": [
        "model_cross_encoder.predict([\"sentence one.\",\"sentence two.\"]) "
      ],
      "execution_count": null,
      "outputs": []
    },
    {
      "cell_type": "code",
      "metadata": {
        "id": "y-1qsSGXMefg"
      },
      "source": [
        "model_cross_encoder.predict()"
      ],
      "execution_count": null,
      "outputs": []
    },
    {
      "cell_type": "code",
      "metadata": {
        "id": "Rd2IChFhOX6D"
      },
      "source": [
        "\n",
        "data.answer1.values[5:6]"
      ],
      "execution_count": null,
      "outputs": []
    },
    {
      "cell_type": "code",
      "metadata": {
        "id": "8VNSVbmVObGD"
      },
      "source": [
        "\n",
        "data.answer2.values[5:6]"
      ],
      "execution_count": null,
      "outputs": []
    },
    {
      "cell_type": "code",
      "metadata": {
        "id": "OUr7XQl2LpvH"
      },
      "source": [
        "model_cross_encoder.predict([data.answer1.values[5:6], data.answer2.values[5:6]])"
      ],
      "execution_count": null,
      "outputs": []
    },
    {
      "cell_type": "code",
      "metadata": {
        "id": "05lSafjWL-ZU"
      },
      "source": [
        ""
      ],
      "execution_count": null,
      "outputs": []
    },
    {
      "cell_type": "markdown",
      "metadata": {
        "id": "iKH4RqRnxzpL"
      },
      "source": [
        "# Bert Score"
      ]
    },
    {
      "cell_type": "code",
      "metadata": {
        "id": "8W9j7zyMx1GO"
      },
      "source": [
        "!pip install bert_score"
      ],
      "execution_count": null,
      "outputs": []
    },
    {
      "cell_type": "code",
      "metadata": {
        "id": "Me_qUgw5x1qB"
      },
      "source": [
        "from bert_score import score\n"
      ],
      "execution_count": null,
      "outputs": []
    },
    {
      "cell_type": "code",
      "metadata": {
        "id": "aork0DwV1M9o"
      },
      "source": [
        "\n",
        "help(score)"
      ],
      "execution_count": null,
      "outputs": []
    },
    {
      "cell_type": "code",
      "metadata": {
        "id": "97LmPT9n1Yen"
      },
      "source": [
        "\n",
        "data"
      ],
      "execution_count": null,
      "outputs": []
    },
    {
      "cell_type": "markdown",
      "metadata": {
        "id": "nWkn75Y14BdH"
      },
      "source": [
        "## Vanilla BERTScore"
      ]
    },
    {
      "cell_type": "code",
      "metadata": {
        "id": "Rc31k7Jb11jM"
      },
      "source": [
        "series_bert_score = []\n",
        "for i in range(len(squad)):\n",
        "    _, _, bertscore = score(\n",
        "        [squad.answer1[i]], \n",
        "        [squad.answer2[i]], \n",
        "        model_type='bert-base-uncased', \n",
        "        num_layers=2)\n",
        "    series_bert_score.append(bertscore)"
      ],
      "execution_count": null,
      "outputs": []
    },
    {
      "cell_type": "code",
      "metadata": {
        "id": "1fGN4UcUFKf3"
      },
      "source": [
        "len(series_bert_score)"
      ],
      "execution_count": null,
      "outputs": []
    },
    {
      "cell_type": "code",
      "metadata": {
        "id": "5i3yO3dDFPzn"
      },
      "source": [
        "squad_bs = squad.copy()\n",
        "squad_bs['bert_score'] = [score.item() for score in series_bert_score]\n",
        "\n",
        "squad_bs.sort_values('bert_score').to_csv('squad_bert_score.csv') \n",
        "files.download('squad_bert_score.csv')"
      ],
      "execution_count": null,
      "outputs": []
    },
    {
      "cell_type": "code",
      "metadata": {
        "id": "UTroo8d-FryT"
      },
      "source": [
        "german_series_bert_score = []\n",
        "for i in range(len(german_quad)):\n",
        "    _, _, bertscore = score(\n",
        "        [str(german_quad.answer1[i])], \n",
        "        [str(german_quad.answer2[i])], \n",
        "        model_type='deepset/gelectra-base', \n",
        "        num_layers=2)\n",
        "    german_series_bert_score.append(bertscore)"
      ],
      "execution_count": null,
      "outputs": []
    },
    {
      "cell_type": "code",
      "metadata": {
        "id": "M_A9oapaRTPJ"
      },
      "source": [
        "german_quad_bert = german_quad.copy()\n",
        "german_quad_bert['bert_score'] = [score.item() for score in german_series_bert_score]\n",
        "\n",
        "german_quad_bert.sort_values('bert_score').to_csv('german_quad_bert.csv') \n",
        "files.download('german_quad_bert.csv')"
      ],
      "execution_count": null,
      "outputs": []
    },
    {
      "cell_type": "code",
      "metadata": {
        "id": "t1Nc6qFeSMEg"
      },
      "source": [
        "\n",
        "nq_open_sas"
      ],
      "execution_count": null,
      "outputs": []
    },
    {
      "cell_type": "code",
      "metadata": {
        "id": "qNwNqxpkRpwS"
      },
      "source": [
        "nq_open_series_bert_score = []\n",
        "for i in range(len(nq_open)):\n",
        "    _, _, bertscore = score(\n",
        "        [str(nq_open.answer1[i])], \n",
        "        [str(nq_open.answer2[i])], \n",
        "        model_type='bert-base-uncased', \n",
        "        num_layers=2)\n",
        "    nq_open_series_bert_score.append(bertscore.item())\n",
        "nq_open_bert = nq_open_sas.copy()\n",
        "nq_open_bert['bert_score'] = nq_open_series_bert_score\n",
        "\n",
        "nq_open_bert.sort_values('bert_score').to_csv('nq_open_bert.csv') \n",
        "files.download('nq_open_bert.csv')"
      ],
      "execution_count": null,
      "outputs": []
    },
    {
      "cell_type": "code",
      "metadata": {
        "id": "7rDddu8cSttX"
      },
      "source": [
        ""
      ],
      "execution_count": null,
      "outputs": []
    },
    {
      "cell_type": "markdown",
      "metadata": {
        "id": "Qj8eFQRTTjEx"
      },
      "source": [
        "## BERTScore Trained "
      ]
    },
    {
      "cell_type": "code",
      "metadata": {
        "id": "R2h3luSToBcC"
      },
      "source": [
        "nq_open_bert_trained = []\n",
        "for i in range(len(nq_open)):\n",
        "    _, _, bertscore = score(\n",
        "        [str(nq_open.answer1[i])], \n",
        "        [str(nq_open.answer2[i])], \n",
        "        model_type='bert-base-uncased')\n",
        "    nq_open_bert_trained.append(bertscore.item())\n",
        "nq_open_bert_trained_df = nq_open_bert.copy()\n",
        "nq_open_bert_trained_df['bert_score_prime'] = nq_open_series_bert_score\n",
        "\n",
        "nq_open_bert_trained_df.sort_values('bert_score_prime').to_csv('nq_open_bert_trained.csv') \n",
        "files.download('nq_open_bert_trained.csv')"
      ],
      "execution_count": null,
      "outputs": []
    },
    {
      "cell_type": "code",
      "metadata": {
        "id": "p5_yPt8VmDOC"
      },
      "source": [
        "from datasets import load_metric\n",
        "metric = load_metric(\"bertscore\")"
      ],
      "execution_count": null,
      "outputs": []
    },
    {
      "cell_type": "code",
      "metadata": {
        "id": "9kH-3CwtsFTm"
      },
      "source": [
        "score()"
      ],
      "execution_count": null,
      "outputs": []
    },
    {
      "cell_type": "code",
      "metadata": {
        "id": "_O0-C2QukUqt"
      },
      "source": [
        "metric.compute(\n",
        "        predictions=[str(german_quad.answer1[0])], \n",
        "        references=[str(german_quad.answer2[0])], \n",
        "        model_type='T-Systems-onsite/cross-en-de-roberta-sentence-transformer')\n",
        "        # model_type='deepset/gelectra-base')\n"
      ],
      "execution_count": null,
      "outputs": []
    },
    {
      "cell_type": "code",
      "metadata": {
        "id": "2JUWZVGgoVMo"
      },
      "source": [
        "# german_quad_bert_trained = []\n",
        "# for i in range(len(german_quad)):\n",
        "#     _, _, bertscore = score(\n",
        "#         [str(german_quad.answer1[i])], \n",
        "#         [str(german_quad.answer2[i])], \n",
        "#         # model_type='T-Systems-onsite/cross-en-de-roberta-sentence-transformer')\n",
        "#         # model_type='deepset/gelectra-base')\n",
        "#         lang='de', \n",
        "#         verbose=False)\n",
        "#     german_quad_bert_trained.append(bertscore.item())\n",
        "german_quad_bert_trained_df = german_quad.copy()\n",
        "german_quad_bert_trained_df['bert_score_prime'] = german_quad_bert_trained\n",
        "\n",
        "german_quad_bert_trained_df.sort_values('bert_score_prime').to_csv('german_quad_bert_trained.csv') \n",
        "files.download('german_quad_bert_trained.csv')"
      ],
      "execution_count": null,
      "outputs": []
    },
    {
      "cell_type": "code",
      "metadata": {
        "id": "bDEqr6Gfjl3E"
      },
      "source": [
        ""
      ],
      "execution_count": null,
      "outputs": []
    }
  ]
}